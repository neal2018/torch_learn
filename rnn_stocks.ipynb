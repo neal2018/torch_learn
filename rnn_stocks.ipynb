{
 "cells": [
  {
   "cell_type": "code",
   "execution_count": 1,
   "metadata": {},
   "outputs": [],
   "source": [
    "import os\n",
    "\n",
    "import matplotlib.pyplot as plt\n",
    "import numpy as np\n",
    "import pandas as pd\n",
    "import torch\n",
    "import torch.nn as nn"
   ]
  },
  {
   "cell_type": "code",
   "execution_count": 2,
   "metadata": {},
   "outputs": [],
   "source": [
    "%matplotlib inline"
   ]
  },
  {
   "cell_type": "code",
   "execution_count": 3,
   "metadata": {},
   "outputs": [],
   "source": [
    "import json\n",
    "\n",
    "import akshare as ak\n",
    "import requests"
   ]
  },
  {
   "cell_type": "code",
   "execution_count": 30,
   "metadata": {},
   "outputs": [],
   "source": [
    "# USE_CUDA = torch.cuda.is_available()\n",
    "USE_CUDA = True\n",
    "BATCH_SIZE = 1\n",
    "EMBEDDING_SIZE = 650\n",
    "device = torch.device(\"cuda\" if USE_CUDA else \"cpu\")"
   ]
  },
  {
   "cell_type": "code",
   "execution_count": 31,
   "metadata": {},
   "outputs": [],
   "source": [
    "def stock_zh_a_minute(symbol: str = \"sz000613\", period: str = \"5\", adjust: str = \"\"):\n",
    "    \"\"\"\n",
    "    股票及股票指数历史行情数据-分钟数据\n",
    "    http://finance.sina.com.cn/realstock/company/sh600519/nc.shtml\n",
    "    :param symbol: sh000300\n",
    "    :type symbol: str\n",
    "    :param period: 1, 5, 15, 30, 60 分钟的数据\n",
    "    :type period: str\n",
    "    :param adjust: 默认为空: 返回不复权的数据; qfq: 返回前复权后的数据; hfq: 返回后复权后的数据;\n",
    "    :type adjust: str\n",
    "    :return: specific data\n",
    "    :rtype: pandas.DataFrame\n",
    "    \"\"\"\n",
    "    url = (\n",
    "        \"https://quotes.sina.cn/cn/api/jsonp_v2.php/=/CN_MarketDataService.getKLineData\"\n",
    "    )\n",
    "    params = {\n",
    "        \"symbol\": symbol,\n",
    "        \"scale\": period,\n",
    "        \"datalen\": \"10000\",\n",
    "    }\n",
    "    r = requests.get(url, params=params)\n",
    "    temp_df = pd.DataFrame(json.loads(r.text.split(\"=(\")[1].split(\");\")[0])).iloc[:, :6]\n",
    "    if adjust == \"\":\n",
    "        return temp_df"
   ]
  },
  {
   "cell_type": "code",
   "execution_count": 32,
   "metadata": {},
   "outputs": [],
   "source": [
    "stock_data = stock_zh_a_minute(period=\"1\")"
   ]
  },
  {
   "cell_type": "code",
   "execution_count": 33,
   "metadata": {},
   "outputs": [],
   "source": [
    "data = torch.Tensor([float(i) for i in stock_data[\"close\"]]).to(device)"
   ]
  },
  {
   "cell_type": "code",
   "execution_count": 34,
   "metadata": {},
   "outputs": [],
   "source": [
    "trainlen = int(0.7 * len(data))\n",
    "train = data[:trainlen]\n",
    "test = data[trainlen:]"
   ]
  },
  {
   "cell_type": "code",
   "execution_count": 56,
   "metadata": {},
   "outputs": [
    {
     "data": {
      "text/plain": [
       "[<matplotlib.lines.Line2D at 0x7f9525fc7250>]"
      ]
     },
     "execution_count": 56,
     "metadata": {},
     "output_type": "execute_result"
    },
    {
     "data": {
      "image/png": "[encoded data removed]",
      "text/plain": [
       "<Figure size 432x288 with 1 Axes>"
      ]
     },
     "metadata": {
      "needs_background": "light"
     },
     "output_type": "display_data"
    }
   ],
   "source": [
    "plt.plot(data.cpu())"
   ]
  },
  {
   "cell_type": "code",
   "execution_count": 35,
   "metadata": {},
   "outputs": [],
   "source": [
    "class RNNModel(nn.Module):\n",
    "    def __init__(self, rnn_type, nvocab, ninp, nhid, nlayers, dropout=0.5):\n",
    "        super().__init__()\n",
    "        self.rnn_type = rnn_type\n",
    "        self.nhid = nhid\n",
    "        self.nlayers = nlayers\n",
    "\n",
    "        self.drop = nn.Dropout(dropout)\n",
    "        self.encoder = nn.Linear(nvocab, ninp)\n",
    "\n",
    "        if rnn_type == \"LSTM\":\n",
    "            self.rnn = nn.LSTM(ninp, nhid, nlayers, dropout=dropout)\n",
    "        elif rnn_type == \"GRU\":\n",
    "            self.rnn = nn.GRU(ninp, nhid, nlayers, dropout=dropout, batch_first=True)\n",
    "        elif rnn_type in [\"RNN_TANH\", \"RNN_RELU\"]:\n",
    "            nonlinearity = {\"RNN_TANH\": \"tanh\", \"RNN_RELU\": \"relu\"}[rnn_type]\n",
    "            self.rnn = nn.RNN(\n",
    "                ninp, nhid, nlayers, nonlinearity=nonlinearity, dropout=dropout\n",
    "            )\n",
    "        else:\n",
    "            raise ValueError(\n",
    "                \"rnn_type should be in ['LSTM', 'GRU', 'RNN_TANH', RNN_RELU']\"\n",
    "            )\n",
    "\n",
    "        self.decoder = nn.Linear(nhid, nvocab)\n",
    "        self.init_weight()\n",
    "\n",
    "    def init_weight(self):\n",
    "        init_range = 0.1\n",
    "        self.encoder.weight.data.uniform_(-init_range, init_range)\n",
    "        self.decoder.bias.data.zero_()\n",
    "        self.decoder.weight.data.uniform_(-init_range, init_range)\n",
    "\n",
    "    def init_hidden(self, bsz, requires_grad=True):\n",
    "        weight = next(self.parameters())\n",
    "        if self.rnn_type == \"LSTM\":\n",
    "            return (\n",
    "                weight.new_zeros(\n",
    "                    (self.nlayers, bsz, self.nhid), requires_grad=requires_grad\n",
    "                ),\n",
    "                weight.new_zeros(\n",
    "                    (self.nlayers, bsz, self.nhid), requires_grad=requires_grad\n",
    "                ),\n",
    "            )\n",
    "        else:\n",
    "            return weight.new_zeros(\n",
    "                (self.nlayers, bsz, self.nhid), requires_grad=requires_grad\n",
    "            )\n",
    "\n",
    "    def forward(self, x, hidden):\n",
    "        # encoder\n",
    "        x = self.drop(self.encoder(x))\n",
    "#         # rnn\n",
    "        x, hidden = self.rnn(x, hidden)\n",
    "#         # decoder\n",
    "        x = self.decoder(x)\n",
    "\n",
    "        return x, hidden"
   ]
  },
  {
   "cell_type": "code",
   "execution_count": 36,
   "metadata": {},
   "outputs": [],
   "source": [
    "def hidden_detach(h):\n",
    "    if isinstance(h, torch.Tensor):\n",
    "        return h.detach()\n",
    "    else:\n",
    "        return [hidden_detach(v) for v in h]"
   ]
  },
  {
   "cell_type": "code",
   "execution_count": 37,
   "metadata": {},
   "outputs": [],
   "source": [
    "# def evaluate(model, data, batch_size, loss_fn):\n",
    "#     model.eval()\n",
    "#     total_loss = 0\n",
    "#     total_cnt = 0\n",
    "#     it = iter(data)\n",
    "#     with torch.no_grad():\n",
    "#         hidden = model.init_hidden(batch_size, requires_grad=False)\n",
    "#         for i, batch in enumerate(it):\n",
    "#             text, target = batch.text.to(device), batch.target.to(device)\n",
    "\n",
    "#             output, hidden = model(text, hidden)\n",
    "\n",
    "#             loss = loss_fn(output, target)\n",
    "#             total_cnt += np.multiply(*text.size())\n",
    "#             total_loss += loss.item() * np.multiply(*text.size())\n",
    "\n",
    "#     loss = total_loss / total_cnt\n",
    "#     model.train()\n",
    "#     return loss"
   ]
  },
  {
   "cell_type": "code",
   "execution_count": 38,
   "metadata": {},
   "outputs": [],
   "source": [
    "RNN_TYPE = \"GRU\""
   ]
  },
  {
   "cell_type": "code",
   "execution_count": 39,
   "metadata": {},
   "outputs": [],
   "source": [
    "model = RNNModel(RNN_TYPE, 1, EMBEDDING_SIZE, EMBEDDING_SIZE, 2, dropout=0.5)\n",
    "model = model.to(device)"
   ]
  },
  {
   "cell_type": "code",
   "execution_count": 50,
   "metadata": {},
   "outputs": [],
   "source": [
    "loss_fn = lambda x,y: nn.MSELoss()(x,y) * 10000\n",
    "learning_rate = 0.001\n",
    "optimizer = torch.optim.Adam(model.parameters(), lr=learning_rate)\n",
    "scheduler = torch.optim.lr_scheduler.ExponentialLR(optimizer, 0.5)"
   ]
  },
  {
   "cell_type": "code",
   "execution_count": 41,
   "metadata": {},
   "outputs": [
    {
     "data": {
      "text/plain": [
       "<torch.autograd.anomaly_mode.set_detect_anomaly at 0x7f66ca50a9a0>"
      ]
     },
     "execution_count": 41,
     "metadata": {},
     "output_type": "execute_result"
    }
   ],
   "source": [
    "torch.autograd.set_detect_anomaly(True)"
   ]
  },
  {
   "cell_type": "code",
   "execution_count": 56,
   "metadata": {},
   "outputs": [
    {
     "name": "stdout",
     "output_type": "stream",
     "text": [
      "1000 2.0734643936157227\n",
      "2000 106.97525024414062\n",
      "3000 22.929676055908203\n",
      "4000 419.2766418457031\n",
      "5000 77.46402740478516\n",
      "6000 12.793862342834473\n",
      "epoch 0 127.98829214954817\n",
      "1000 77.59669494628906\n",
      "2000 19.488746643066406\n",
      "3000 116.94258117675781\n",
      "4000 1.2375696897506714\n",
      "5000 203.593994140625\n",
      "6000 4.25592041015625\n",
      "epoch 1 117.81140583807509\n",
      "1000 61.76899719238281\n",
      "2000 65.93382263183594\n",
      "3000 0.2304306924343109\n",
      "4000 541.1417236328125\n",
      "5000 394.1556396484375\n",
      "6000 774.7254638671875\n",
      "epoch 2 132.0870602567432\n",
      "1000 35.17671203613281\n",
      "2000 5.309650421142578\n",
      "3000 65.94002532958984\n",
      "4000 102.13298797607422\n",
      "5000 18.927846908569336\n",
      "6000 120.16565704345703\n",
      "epoch 3 115.89905030889048\n",
      "1000 372.75079345703125\n",
      "2000 266.5117492675781\n",
      "3000 10.250420570373535\n",
      "4000 11.708600997924805\n",
      "5000 43.908748626708984\n",
      "6000 8.887469291687012\n",
      "epoch 4 112.2480805305422\n",
      "1000 0.8768689632415771\n",
      "2000 2.198615312576294\n",
      "3000 5.733104228973389\n",
      "4000 28.013700485229492\n",
      "5000 33.225982666015625\n",
      "6000 90.36650848388672\n",
      "epoch 5 119.98498642739224\n",
      "1000 2.9385831356048584\n",
      "2000 184.88131713867188\n",
      "3000 221.25802612304688\n",
      "4000 899.2260131835938\n",
      "5000 33.90279769897461\n",
      "6000 1011.239013671875\n",
      "epoch 6 116.72778954661239\n",
      "1000 234.70286560058594\n",
      "2000 0.04891045019030571\n",
      "3000 0.0031178409699350595\n",
      "4000 1.7131415605545044\n",
      "5000 10.869234085083008\n",
      "6000 54.62370681762695\n",
      "epoch 7 117.1207027098291\n",
      "1000 2.4721992015838623\n",
      "2000 17.093400955200195\n",
      "3000 10.95081901550293\n",
      "4000 266.4572448730469\n",
      "5000 71.5142822265625\n",
      "6000 0.12057062983512878\n",
      "epoch 8 114.83075256867994\n",
      "1000 0.6798774003982544\n",
      "2000 71.31602478027344\n",
      "3000 3.894270420074463\n",
      "4000 17.668697357177734\n",
      "5000 5.766720294952393\n",
      "6000 2.017272472381592\n",
      "epoch 9 101.49084030175354\n",
      "1000 224.8586883544922\n",
      "2000 169.7959442138672\n",
      "3000 46.75612258911133\n",
      "4000 48.306434631347656\n",
      "5000 2.093424081802368\n",
      "6000 356.94378662109375\n",
      "epoch 10 113.15544371283973\n",
      "1000 157.88743591308594\n",
      "2000 56.561279296875\n",
      "3000 36.45627212524414\n",
      "4000 196.83497619628906\n",
      "5000 9.78530502319336\n",
      "6000 609.2880859375\n",
      "epoch 11 124.03017468090707\n",
      "1000 24.134254455566406\n",
      "2000 9.13970947265625\n",
      "3000 112.86995697021484\n",
      "4000 0.37895938754081726\n",
      "5000 81.99983215332031\n",
      "6000 15.663772583007812\n",
      "epoch 12 111.92564937613707\n",
      "1000 248.8600616455078\n",
      "2000 55.57227325439453\n",
      "3000 6.01764440536499\n",
      "4000 163.22113037109375\n",
      "5000 19.647790908813477\n",
      "6000 189.660400390625\n",
      "epoch 13 112.04101699959203\n",
      "1000 629.1888427734375\n",
      "2000 420.9263916015625\n",
      "3000 12.41130542755127\n",
      "4000 6.829617977142334\n",
      "5000 56.254005432128906\n",
      "6000 37.727046966552734\n",
      "epoch 14 129.26816889200393\n",
      "1000 19.399173736572266\n",
      "2000 2.664588212966919\n",
      "3000 27.285085678100586\n",
      "4000 14.475617408752441\n",
      "5000 0.692834734916687\n",
      "6000 171.61135864257812\n",
      "epoch 15 106.70317890885252\n",
      "1000 288.5011291503906\n",
      "2000 213.0845489501953\n",
      "3000 113.04125213623047\n",
      "4000 58.30447006225586\n",
      "5000 83.39523315429688\n",
      "6000 15.259533882141113\n",
      "epoch 16 120.27206269552478\n",
      "1000 20.129228591918945\n",
      "2000 15.093833923339844\n",
      "3000 20.89324951171875\n",
      "4000 597.9572143554688\n",
      "5000 134.52500915527344\n",
      "6000 492.6076965332031\n",
      "epoch 17 121.0732367273747\n",
      "1000 14.188236236572266\n",
      "2000 41.197322845458984\n",
      "3000 52.064125061035156\n",
      "4000 27.912837982177734\n",
      "5000 10.077422142028809\n",
      "6000 121.46126556396484\n",
      "epoch 18 123.4880751638247\n",
      "1000 108.17804718017578\n",
      "2000 7.190920352935791\n",
      "3000 1.238100290298462\n",
      "4000 103.8372802734375\n",
      "5000 38.68018341064453\n",
      "6000 225.87803649902344\n",
      "epoch 19 111.2725970472329\n"
     ]
    }
   ],
   "source": [
    "PATH = f\"./saved_model/{RNN_TYPE}_stock.pth\"\n",
    "if os.path.exists(PATH):\n",
    "    model.load_state_dict(torch.load(PATH))\n",
    "\n",
    "GRAD_CLIP = 1.0\n",
    "EPOCH = 20\n",
    "\n",
    "mini_loss = float(\"inf\")\n",
    "\n",
    "for epoch in range(EPOCH):\n",
    "    model.train()\n",
    "    hidden = model.init_hidden(BATCH_SIZE)\n",
    "    i=0\n",
    "    total=0\n",
    "    for text, target in zip(train[1:], train[:-1]):\n",
    "        i+=1\n",
    "        hidden = hidden_detach(hidden)\n",
    "        text = text.unsqueeze(0).unsqueeze(0).unsqueeze(0)\n",
    "        target = target.unsqueeze(0).unsqueeze(0).unsqueeze(0)\n",
    "\n",
    "        model.zero_grad()\n",
    "        output, hidden = model(text, hidden)\n",
    "        loss = loss_fn(output, target)\n",
    "        loss.backward(retain_graph=True)\n",
    "        torch.nn.utils.clip_grad_norm_(model.parameters(), GRAD_CLIP)\n",
    "        optimizer.step()\n",
    "        if i%1000 == 0:\n",
    "            print(i, loss.item())\n",
    "        total+=loss.item()\n",
    "    print(\"epoch\", epoch, total/i)\n",
    "    torch.save(model.state_dict(), PATH)"
   ]
  },
  {
   "cell_type": "code",
   "execution_count": 46,
   "metadata": {},
   "outputs": [
    {
     "data": {
      "text/plain": [
       "tensor(5.4978, device='cuda:0')"
      ]
     },
     "execution_count": 46,
     "metadata": {},
     "output_type": "execute_result"
    }
   ],
   "source": [
    "nn.MSELoss()(train[1:], train[:-1])*10000"
   ]
  },
  {
   "cell_type": "code",
   "execution_count": 44,
   "metadata": {},
   "outputs": [
    {
     "data": {
      "text/plain": [
       "<All keys matched successfully>"
      ]
     },
     "execution_count": 44,
     "metadata": {},
     "output_type": "execute_result"
    }
   ],
   "source": [
    "best_model = RNNModel(RNN_TYPE, 1, EMBEDDING_SIZE, EMBEDDING_SIZE, 2, dropout=0.5)\n",
    "best_model = best_model.to(device)\n",
    "best_model.load_state_dict(torch.load(PATH))"
   ]
  },
  {
   "cell_type": "code",
   "execution_count": 72,
   "metadata": {},
   "outputs": [
    {
     "name": "stdout",
     "output_type": "stream",
     "text": [
      "1000 358.002197265625\n",
      "2000 3354.90087890625\n",
      "test err 2895.474347177594\n"
     ]
    }
   ],
   "source": [
    "model.eval()\n",
    "i=0\n",
    "total=0\n",
    "with torch.no_grad():\n",
    "    for text, target in zip(test[1:], test[:-1]):\n",
    "        i+=1\n",
    "        hidden = hidden_detach(hidden)\n",
    "        text = text.unsqueeze(0).unsqueeze(0).unsqueeze(0)\n",
    "        target = target.unsqueeze(0).unsqueeze(0).unsqueeze(0)\n",
    "\n",
    "        model.zero_grad()\n",
    "        output, hidden = model(text, hidden)\n",
    "        loss = loss_fn(output, target)\n",
    "        if i%1000 == 0:\n",
    "            print(i, loss.item())\n",
    "        total+=loss.item()\n",
    "    print(\"test err\", total/i)"
   ]
  },
  {
   "cell_type": "code",
   "execution_count": 67,
   "metadata": {},
   "outputs": [
    {
     "data": {
      "text/plain": [
       "tensor(1.9233, device='cuda:0')"
      ]
     },
     "execution_count": 67,
     "metadata": {},
     "output_type": "execute_result"
    }
   ],
   "source": [
    "nn.MSELoss()(test[1:], test[:-1])*10000"
   ]
  },
  {
   "cell_type": "code",
   "execution_count": 73,
   "metadata": {},
   "outputs": [],
   "source": [
    "# loss 降不下来！！！！！"
   ]
  },
  {
   "cell_type": "code",
   "execution_count": null,
   "metadata": {},
   "outputs": [],
   "source": []
  }
 ],
 "metadata": {
  "kernelspec": {
   "display_name": "Python 3",
   "language": "python",
   "name": "python3"
  },
  "language_info": {
   "codemirror_mode": {
    "name": "ipython",
    "version": 3
   },
   "file_extension": ".py",
   "mimetype": "text/x-python",
   "name": "python",
   "nbconvert_exporter": "python",
   "pygments_lexer": "ipython3",
   "version": "3.8.2"
  }
 },
 "nbformat": 4,
 "nbformat_minor": 4
}
