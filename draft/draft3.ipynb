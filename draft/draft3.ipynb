{
 "metadata": {
  "language_info": {
   "codemirror_mode": {
    "name": "ipython",
    "version": 3
   },
   "file_extension": ".py",
   "mimetype": "text/x-python",
   "name": "python",
   "nbconvert_exporter": "python",
   "pygments_lexer": "ipython3",
   "version": "3.7.9-final"
  },
  "orig_nbformat": 2,
  "kernelspec": {
   "name": "Python 3.7.9 64-bit ('base': conda)",
   "display_name": "Python 3.7.9 64-bit ('base': conda)",
   "metadata": {
    "interpreter": {
     "hash": "76088626fc73e36a502cb5adab8a203ff72733af049012e624146109c109b8df"
    }
   }
  }
 },
 "nbformat": 4,
 "nbformat_minor": 2,
 "cells": [
  {
   "cell_type": "code",
   "execution_count": 1,
   "metadata": {},
   "outputs": [],
   "source": [
    "import math\n",
    "import os\n",
    "import random\n",
    "import sys\n",
    "from collections import Counter\n",
    "\n",
    "import jieba\n",
    "import nltk\n",
    "import numpy as np\n",
    "import torch\n",
    "import torch.nn as nn\n",
    "import torch.nn.functional as F"
   ]
  },
  {
   "cell_type": "code",
   "execution_count": 61,
   "metadata": {},
   "outputs": [],
   "source": [
    "ax=[[5]*random.randint(1,5) for _ in range(10)]"
   ]
  },
  {
   "cell_type": "code",
   "execution_count": 17,
   "metadata": {},
   "outputs": [],
   "source": [
    "a=[   2,    8.242,   22,  311, 1511,    4,    3]"
   ]
  },
  {
   "cell_type": "code",
   "execution_count": 9,
   "metadata": {},
   "outputs": [
    {
     "output_type": "execute_result",
     "data": {
      "text/plain": "tensor([7])"
     },
     "metadata": {},
     "execution_count": 9
    }
   ],
   "source": [
    "torch.tensor(len(a)).unsqueeze(0)"
   ]
  },
  {
   "cell_type": "code",
   "execution_count": 15,
   "metadata": {},
   "outputs": [
    {
     "output_type": "execute_result",
     "data": {
      "text/plain": "tensor([[1]])"
     },
     "metadata": {},
     "execution_count": 15
    }
   ],
   "source": [
    "torch.Tensor([[1.2323242]]).long()"
   ]
  },
  {
   "cell_type": "code",
   "execution_count": 21,
   "metadata": {},
   "outputs": [
    {
     "output_type": "execute_result",
     "data": {
      "text/plain": "tensor([   2,    8,   22,  311, 1511,    4,    3])"
     },
     "metadata": {},
     "execution_count": 21
    }
   ],
   "source": [
    "torch.tensor(a).long()"
   ]
  },
  {
   "cell_type": "code",
   "execution_count": 23,
   "metadata": {},
   "outputs": [],
   "source": [
    "kk=torch.tensor([[ 3866,  2259,   835,   167,   167, 11149,  5841,  9945,  4254,   166]])"
   ]
  },
  {
   "cell_type": "code",
   "execution_count": 24,
   "metadata": {},
   "outputs": [
    {
     "output_type": "execute_result",
     "data": {
      "text/plain": "tensor([[ 3866,  2259,   835,   167,   167, 11149,  5841,  9945,  4254,   166]])"
     },
     "metadata": {},
     "execution_count": 24
    }
   ],
   "source": [
    "kk"
   ]
  },
  {
   "cell_type": "code",
   "execution_count": 26,
   "metadata": {},
   "outputs": [
    {
     "output_type": "execute_result",
     "data": {
      "text/plain": "array([[ 3866,  2259,   835,   167,   167, 11149,  5841,  9945,  4254,\n          166]], dtype=int64)"
     },
     "metadata": {},
     "execution_count": 26
    }
   ],
   "source": [
    "kk.numpy()"
   ]
  },
  {
   "cell_type": "code",
   "execution_count": null,
   "metadata": {},
   "outputs": [],
   "source": [
    "tensor([[[-1.0000, -0.9288,  0.9860,  0.9857, -0.9990, -0.9995,  0.9949,\n",
    "          -0.9910,  0.9881, -0.9482, -0.9890, -0.1382, -0.8301,  0.9970,\n",
    "           0.9114, -0.8964, -0.9575,  0.9354,  0.9043, -0.9950, -0.9123,\n",
    "           0.9979, -0.9829,  0.8384, -0.9982, -0.9997,  0.9941, -0.9314,\n",
    "           0.9990, -0.9996,  0.9975, -0.7433, -0.9127,  0.9952, -0.6198,\n",
    "          -0.9998, -0.9960,  0.9043,  0.9996, -0.9631,  0.9978, -0.8762,\n",
    "           0.9959,  0.9935, -0.9991, -0.8219,  0.9982, -0.9728, -0.9884,\n",
    "           1.0000, -0.9332,  0.9980,  0.9336, -0.2239, -0.9996,  1.0000,\n",
    "           1.0000,  0.7955,  0.8613, -0.7487,  0.9965,  0.9972,  0.8966,\n",
    "           0.9628, -0.7322,  0.9948, -0.8320,  0.9917,  0.9996, -0.9996,\n",
    "          -0.9708,  0.2274, -0.9999,  0.6706, -0.3952, -0.9709, -0.9993,\n",
    "           0.9969, -0.9446,  1.0000, -0.1499, -0.9926, -0.1259, -0.9960,\n",
    "           0.9740,  0.9993,  0.9656, -0.9712, -0.9961,  0.9867,  0.9849,\n",
    "           0.9265,  0.9915,  0.9974, -0.9979, -0.7751,  0.4445, -1.0000,\n",
    "           0.4417, -0.9927]]])"
   ]
  }
 ]
}