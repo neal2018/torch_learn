{
 "cells": [
  {
   "cell_type": "code",
   "execution_count": 1,
   "metadata": {},
   "outputs": [],
   "source": [
    "import math\n",
    "import os\n",
    "import random\n",
    "import sys\n",
    "from collections import Counter\n",
    "\n",
    "import jieba\n",
    "import nltk\n",
    "import numpy as np\n",
    "import torch\n",
    "import torch.nn as nn\n",
    "import torch.nn.functional as F"
   ]
  },
  {
   "cell_type": "code",
   "execution_count": 2,
   "metadata": {},
   "outputs": [],
   "source": [
    "def load_data(file):\n",
    "    en = []\n",
    "    cn = []\n",
    "    with open(file, \"r\") as f:\n",
    "        for line in f:\n",
    "            line = line.strip().split(\"\\t\")\n",
    "            en.append([\"BOS\"] + nltk.word_tokenize(line[0].lower()) + [\"EOS\"])\n",
    "            cn.append(\n",
    "                [\"BOS\"] + [c for c in jieba.cut(line[1])] + [\"EOS\"]\n",
    "            )  # jieba.cut generator to list\n",
    "    return en, cn"
   ]
  },
  {
   "cell_type": "code",
   "execution_count": 6,
   "metadata": {},
   "outputs": [],
   "source": [
    "def build_dict(sentences, max_words=50000):\n",
    "    UNK_IDX = 0\n",
    "    PAD_IDX = 1\n",
    "    word_count = Counter()\n",
    "    for sentence in sentences:\n",
    "        for s in sentence:\n",
    "            word_count[s]+=1\n",
    "    ls = word_count.most_common(max_words)\n",
    "    word_dict = {w[0]:index+2 for index, w in enumerate(ls)}\n",
    "    word_dict[\"UNK\"] = UNK_IDX\n",
    "    word_dict[\"PAD\"] = PAD_IDX\n",
    "    total_words = len(ls) + 2\n",
    "    return word_dict, total_words"
   ]
  },
  {
   "cell_type": "code",
   "execution_count": 13,
   "metadata": {},
   "outputs": [],
   "source": [
    "def encode(en_sens, cn_sens, en_dict, cn_dict, sort_by_len=True):\n",
    "    \"\"\"\n",
    "    word to number\n",
    "    \"\"\"\n",
    "    out_en_sens = [[en_dict.get(w, 0) for w in en_sen] for en_sen in en_sens]\n",
    "    out_cn_sens = [[cn_dict.get(w, 0) for w in cn_sen] for cn_sen in cn_sens]\n",
    "    \n",
    "    if sort_by_len:\n",
    "        sorted_index = sorted(range(len(out_en_sens)), key=lambda x: len(out_en_sens[x]))\n",
    "        out_en_sens = [out_en_sens[i] for i in sorted_index]\n",
    "        out_cn_sens = [out_cn_sens[i] for i in sorted_index]\n",
    "    return out_en_sens, out_cn_sens"
   ]
  },
  {
   "cell_type": "code",
   "execution_count": 34,
   "metadata": {},
   "outputs": [],
   "source": [
    "def get_mini_batches(n, sz, shuffle=True):\n",
    "    \"\"\"\n",
    "    seperate range(n) into batches with size of `sz`\n",
    "    \"\"\"\n",
    "    minibatches=[np.arange(idx, min(idx+sz, n)) for idx in range(0, n, sz)]\n",
    "    if shuffle:\n",
    "        np.random.shuffle(minibatches)\n",
    "    return minibatches"
   ]
  },
  {
   "cell_type": "code",
   "execution_count": 68,
   "metadata": {},
   "outputs": [],
   "source": [
    "def prepare_data(seqs):\n",
    "    \"\"\"\n",
    "    pading seqs to a matrix\n",
    "    \"\"\"\n",
    "    lengths = [len(seq) for seq in seqs]\n",
    "    \n",
    "    x = np.zeros((len(lengths), np.max(lengths))).astype('int32')\n",
    "    x_lengths = np.array(lengths).astype(\"int32\")\n",
    "    \n",
    "    for i,v in enumerate(seqs):\n",
    "        x[i,:lengths[i]] = v\n",
    "    return x, x_lengths"
   ]
  },
  {
   "cell_type": "code",
   "execution_count": 65,
   "metadata": {},
   "outputs": [],
   "source": [
    "def gen_examples(en_sens, cn_sens, minibatch_size):\n",
    "    minibatches = get_mini_batches(len(en_sens), minibatch_size)\n",
    "    all_ex=[]\n",
    "    for minibatch in minibatches:\n",
    "        mb_en_sents = [en_sens[t] for t in minibatch]\n",
    "        mb_cn_sents = [cn_sens[t] for t in minibatch]\n",
    "        mb_x, mb_x_len = prepare_data(mb_en_sents)\n",
    "        mb_y, mb_y_len = prepare_data(mb_cn_sents)\n",
    "        all_ex.append((mb_x, mb_x_len,mb_y, mb_y_len))\n",
    "    return all_ex"
   ]
  },
  {
   "cell_type": "code",
   "execution_count": 3,
   "metadata": {
    "scrolled": true
   },
   "outputs": [
    {
     "name": "stderr",
     "output_type": "stream",
     "text": [
      "Building prefix dict from the default dictionary ...\n",
      "Dumping model to file cache /tmp/jieba.cache\n",
      "Loading model cost 0.556 seconds.\n",
      "Prefix dict has been built successfully.\n"
     ]
    }
   ],
   "source": [
    "train_file = \"data/nmt/en-cn/train.txt\"\n",
    "dev_file = \"data/nmt/en-cn/dev.txt\"\n",
    "train_en, train_cn = load_data(train_file)\n",
    "dev_en, dev_cn = load_data(dev_file)"
   ]
  },
  {
   "cell_type": "code",
   "execution_count": 7,
   "metadata": {},
   "outputs": [],
   "source": [
    "en_dict, en_total_words = build_dict(train_en)\n",
    "cn_dict, cn_total_words = build_dict(train_cn)\n",
    "inv_en_dict = {v: k for k, v in en_dict.items()}\n",
    "inv_cn_dict = {v: k for k, v in cn_dict.items()}"
   ]
  },
  {
   "cell_type": "code",
   "execution_count": 14,
   "metadata": {
    "scrolled": true
   },
   "outputs": [],
   "source": [
    "train_en, train_cn = encode(train_en, train_cn, en_dict, cn_dict)\n",
    "dev_en, dev_cn = encode(dev_en, dev_cn, en_dict, cn_dict)"
   ]
  },
  {
   "cell_type": "code",
   "execution_count": 16,
   "metadata": {
    "scrolled": true
   },
   "outputs": [
    {
     "name": "stdout",
     "output_type": "stream",
     "text": [
      "BOS 他来 这里 的 目的 是 什么 ？ EOS\n",
      "BOS for what purpose did he come here ? EOS\n"
     ]
    }
   ],
   "source": [
    "k = 10000\n",
    "print(\" \".join([inv_cn_dict[i] for i in train_cn[k]]))\n",
    "print(\" \".join([inv_en_dict[i] for i in train_en[k]]))"
   ]
  },
  {
   "cell_type": "code",
   "execution_count": 69,
   "metadata": {},
   "outputs": [],
   "source": [
    "batch_size = 64\n",
    "train_data = gen_examples(train_en, train_cn, batch_size)\n",
    "random.shuffle(train_data)\n",
    "dev_data = gen_examples(dev_en, dev_cn, batch_size)"
   ]
  },
  {
   "cell_type": "markdown",
   "metadata": {},
   "source": [
    "### without attention"
   ]
  },
  {
   "cell_type": "code",
   "execution_count": 84,
   "metadata": {},
   "outputs": [],
   "source": [
    "class PlainEncoder(nn.Module):\n",
    "    def __init__(self, vocab_size, hidden_size, dropout=0.2):\n",
    "        super().__init__()\n",
    "        self.embed = nn.Embedding(vocab_size, hidden_size)\n",
    "        self.rnn = nn.GRU(hidden_size, hidden_size, batch_first=True)\n",
    "        self.dropout = nn.Dropout(dropout)\n",
    "        \n",
    "    def forward(self, x, lengths):\n",
    "        sorted_len, sorted_idx = lengths.sort(dim=0, descending=True)\n",
    "        x_sorted = s[sorted_idx.long()]\n",
    "        embedded = self.dropout(self.embed(x_sorted))\n",
    "        \n",
    "        packed_embedded = nn.utils.rnn.pack_padded_sequence(embedded, sorted_len.long().cpu().data.numpy(),\n",
    "                                                           batch_first=True)\n",
    "        packed_out , hid = self.rnn(packed_embedded)\n",
    "        out, _ = nn.utils.rnn.pack_padded_sequence(packed_out, batch_first=True)\n",
    "        _, original_idx = sorted_idx.sort(0, descending=False)\n",
    "        out = out[original_idx.long()].contiguous()\n",
    "        hid = hid[:, original_idx.long()].contiguous()\n",
    "        \n",
    "        return out, hid[[-1]]"
   ]
  },
  {
   "cell_type": "code",
   "execution_count": null,
   "metadata": {},
   "outputs": [],
   "source": [
    "class PlainDecoder(nn.Module):\n",
    "    def __init__(self, vocab_size, hidden_size, dropout=0.2):\n",
    "        super().__init__()\n",
    "        self.embed = nn.Embedding(vocab_size, hidden_size)\n",
    "        self.rnn = nn.GRU(hidden_size, hidden_size, batch_first=True)\n",
    "        self.dropout = nn.Dropout(dropout)\n",
    "        self.out = nn.Linear(hidden_size, vocab_size)\n",
    "        \n",
    "    def forward(self, x, lengths):\n",
    "        sorted_len, sorted_idx = lengths.sort(dim=0, descending=True)\n",
    "        x_sorted = s[sorted_idx.long()]\n",
    "        embedded = self.dropout(self.embed(x_sorted))\n",
    "        \n",
    "        packed_embedded = nn.utils.rnn.pack_padded_sequence(embedded, sorted_len.long().cpu().data.numpy(),\n",
    "                                                           batch_first=True)\n",
    "        packed_out , hid = self.rnn(packed_embedded)\n",
    "        out, _ = nn.utils.rnn.pack_padded_sequence(packed_out, batch_first=True)\n",
    "        _, original_idx = sorted_idx.sort(0, descending=False)\n",
    "        out = out[original_idx.long()].contiguous()\n",
    "        hid = hid[:, original_idx.long()].contiguous()\n",
    "        \n",
    "        return out, hid[[-1]]"
   ]
  },
  {
   "cell_type": "code",
   "execution_count": 76,
   "metadata": {},
   "outputs": [],
   "source": [
    "x = torch.randn(3, 4)"
   ]
  },
  {
   "cell_type": "code",
   "execution_count": 81,
   "metadata": {},
   "outputs": [],
   "source": [
    "orted, indices = torch.sort(x, dim=0)"
   ]
  },
  {
   "cell_type": "code",
   "execution_count": 78,
   "metadata": {},
   "outputs": [
    {
     "data": {
      "text/plain": [
       "tensor([[ 0.6728, -1.8939, -0.3373,  0.9705],\n",
       "        [ 0.9647,  0.0331,  0.1752,  2.6695],\n",
       "        [ 0.9066, -0.3199,  0.5944,  0.9399]])"
      ]
     },
     "execution_count": 78,
     "metadata": {},
     "output_type": "execute_result"
    }
   ],
   "source": [
    "x"
   ]
  },
  {
   "cell_type": "code",
   "execution_count": 82,
   "metadata": {},
   "outputs": [
    {
     "data": {
      "text/plain": [
       "tensor([[ 0.6728, -1.8939, -0.3373,  0.9399],\n",
       "        [ 0.9066, -0.3199,  0.1752,  0.9705],\n",
       "        [ 0.9647,  0.0331,  0.5944,  2.6695]])"
      ]
     },
     "execution_count": 82,
     "metadata": {},
     "output_type": "execute_result"
    }
   ],
   "source": [
    "orted"
   ]
  },
  {
   "cell_type": "code",
   "execution_count": 79,
   "metadata": {
    "scrolled": true
   },
   "outputs": [
    {
     "data": {
      "text/plain": [
       "tensor([[-1.8939, -0.3373,  0.6728,  0.9705],\n",
       "        [ 0.0331,  0.1752,  0.9647,  2.6695],\n",
       "        [-0.3199,  0.5944,  0.9066,  0.9399]])"
      ]
     },
     "execution_count": 79,
     "metadata": {},
     "output_type": "execute_result"
    }
   ],
   "source": [
    "orted"
   ]
  },
  {
   "cell_type": "code",
   "execution_count": 80,
   "metadata": {},
   "outputs": [
    {
     "data": {
      "text/plain": [
       "tensor([[1, 2, 0, 3],\n",
       "        [1, 2, 0, 3],\n",
       "        [1, 2, 0, 3]])"
      ]
     },
     "execution_count": 80,
     "metadata": {},
     "output_type": "execute_result"
    }
   ],
   "source": [
    "indices"
   ]
  },
  {
   "cell_type": "code",
   "execution_count": 83,
   "metadata": {},
   "outputs": [
    {
     "data": {
      "text/plain": [
       "tensor([[0, 0, 0, 2],\n",
       "        [2, 2, 1, 0],\n",
       "        [1, 1, 2, 1]])"
      ]
     },
     "execution_count": 83,
     "metadata": {},
     "output_type": "execute_result"
    }
   ],
   "source": [
    "indices"
   ]
  },
  {
   "cell_type": "code",
   "execution_count": null,
   "metadata": {},
   "outputs": [],
   "source": []
  }
 ],
 "metadata": {
  "kernelspec": {
   "display_name": "Python 3",
   "language": "python",
   "name": "python3"
  },
  "language_info": {
   "codemirror_mode": {
    "name": "ipython",
    "version": 3
   },
   "file_extension": ".py",
   "mimetype": "text/x-python",
   "name": "python",
   "nbconvert_exporter": "python",
   "pygments_lexer": "ipython3",
   "version": "3.8.5"
  }
 },
 "nbformat": 4,
 "nbformat_minor": 4
}
